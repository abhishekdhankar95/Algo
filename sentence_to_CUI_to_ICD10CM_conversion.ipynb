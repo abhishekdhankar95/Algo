{
  "nbformat": 4,
  "nbformat_minor": 0,
  "metadata": {
    "colab": {
      "provenance": [],
      "authorship_tag": "ABX9TyOQaIn5+ewpyor0n0XUKI5A",
      "include_colab_link": true
    },
    "kernelspec": {
      "name": "python3",
      "display_name": "Python 3"
    },
    "language_info": {
      "name": "python"
    }
  },
  "cells": [
    {
      "cell_type": "markdown",
      "metadata": {
        "id": "view-in-github",
        "colab_type": "text"
      },
      "source": [
        "<a href=\"https://colab.research.google.com/github/abhishekdhankar95/Algo/blob/master/sentence_to_CUI_to_ICD10CM_conversion.ipynb\" target=\"_parent\"><img src=\"https://colab.research.google.com/assets/colab-badge.svg\" alt=\"Open In Colab\"/></a>"
      ]
    },
    {
      "cell_type": "markdown",
      "source": [
        "#Hi Heather!\n",
        "\n",
        "##* Following is a short Demo of how ailments could be detected from encounter notes and converted into corresponding ICD codes on a CPU (no need of a GPU).\n",
        "\n",
        "##* Please scroll down to section 1 below"
      ],
      "metadata": {
        "id": "-_S6j9Gt7_0d"
      }
    },
    {
      "cell_type": "code",
      "execution_count": null,
      "metadata": {
        "id": "mEdhzBgDMd-O"
      },
      "outputs": [],
      "source": [
        "!pip install scispacy"
      ]
    },
    {
      "cell_type": "code",
      "source": [
        "!pip install https://s3-us-west-2.amazonaws.com/ai2-s2-scispacy/releases/v0.5.4/en_core_sci_sm-0.5.4.tar.gz"
      ],
      "metadata": {
        "id": "ahwk726zPLPq"
      },
      "execution_count": null,
      "outputs": []
    },
    {
      "cell_type": "code",
      "source": [
        "'''\n",
        "import spacy\n",
        "import scispacy\n",
        "\n",
        "from scispacy.linking import EntityLinker\n",
        "\n",
        "nlp = spacy.load(\"en_core_sci_sm\")\n",
        "\n",
        "# This line takes a while, because we have to download ~1GB of data\n",
        "# and load a large JSON file (the knowledge base). Be patient!\n",
        "# Thankfully it should be faster after the first time you use it, because\n",
        "# the downloads are cached.\n",
        "# NOTE: The resolve_abbreviations parameter is optional, and requires that\n",
        "# the AbbreviationDetector pipe has already been added to the pipeline. Adding\n",
        "# the AbbreviationDetector pipe and setting resolve_abbreviations to True means\n",
        "# that linking will only be performed on the long form of abbreviations.\n",
        "nlp.add_pipe(\"scispacy_linker\", config={\"resolve_abbreviations\": True, \"linker_name\": \"umls\"})\n",
        "\n",
        "doc = nlp(\"Spinal and bulbar muscular atrophy (SBMA) is an \\\n",
        "           inherited motor neuron disease caused by the expansion \\\n",
        "           of a polyglutamine tract within the androgen receptor (AR). \\\n",
        "           SBMA can be caused by this easily.\")\n",
        "\n",
        "# Let's look at a random entity!\n",
        "entity = doc.ents[1]\n",
        "\n",
        "print(\"Name: \", entity)\n",
        "\n",
        "\n",
        "# Each entity is linked to UMLS with a score\n",
        "# (currently just char-3gram matching).\n",
        "print(\"UMLS entities in order of Relevance: \")\n",
        "linker = nlp.get_pipe(\"scispacy_linker\")\n",
        "idx = 0\n",
        "for umls_ent in entity._.kb_ents:\n",
        "  idx += 1\n",
        "  print(str(idx)+\" .\")\n",
        "  print(linker.kb.cui_to_entity[umls_ent[0]])\n",
        "  print(\"****************************\")\n",
        "'''"
      ],
      "metadata": {
        "id": "TE9ahWKBMhUg"
      },
      "execution_count": null,
      "outputs": []
    },
    {
      "cell_type": "code",
      "source": [
        "!pip install stanza"
      ],
      "metadata": {
        "id": "JYKCL7zKO4CN"
      },
      "execution_count": null,
      "outputs": []
    },
    {
      "cell_type": "markdown",
      "source": [
        "# Section 1: Detecting Problems in the Patient's Free Text records"
      ],
      "metadata": {
        "id": "bLX0KArg8Vhg"
      }
    },
    {
      "cell_type": "code",
      "source": [
        "#This is the encounter note\n",
        "encounter_note = 'The patient had a sore throat and was treated with Cepacol lozenges.'\n",
        "\n",
        "\n",
        "import stanza\n",
        "stanza.download('en', package='mimic', processors={'ner': 'i2b2'})\n",
        "nlp = stanza.Pipeline('en', package='mimic', processors={'ner': 'i2b2'})\n",
        "\n"
      ],
      "metadata": {
        "id": "Eg7gF4KxZFBu"
      },
      "execution_count": null,
      "outputs": []
    },
    {
      "cell_type": "code",
      "source": [
        "# annotate clinical text\n",
        "doc = nlp(encounter_note)\n",
        "# print out all entities\n",
        "print(\"Following is the list of problemns and treatments: \")\n",
        "print()\n",
        "for ent in doc.entities:\n",
        "    print(f'{ent.text}\\t{ent.type}')"
      ],
      "metadata": {
        "colab": {
          "base_uri": "https://localhost:8080/"
        },
        "id": "i_T6fF4VbdvK",
        "outputId": "12466d1e-5e44-45b1-e2ae-e9c71e4ef83d"
      },
      "execution_count": 33,
      "outputs": [
        {
          "output_type": "stream",
          "name": "stdout",
          "text": [
            "Following is the list of problemns and treatments: \n",
            "\n",
            "a sore throat\tPROBLEM\n",
            "Cepacol lozenges\tTREATMENT\n"
          ]
        }
      ]
    },
    {
      "cell_type": "markdown",
      "source": [
        "* **Sore Throat was identified as a problem by the model above**\n"
      ],
      "metadata": {
        "id": "Xh8NKNvI9xjA"
      }
    },
    {
      "cell_type": "markdown",
      "source": [
        "# Now you may scroll down to the Section 2 below"
      ],
      "metadata": {
        "id": "OVHxrEIm-Ndq"
      }
    },
    {
      "cell_type": "code",
      "source": [
        "#!pip install pymedtermino\n",
        "#!wget https://download.nlm.nih.gov/umls/kss/IHTSDO2024/IHTSDO20240401/SnomedCT_InternationalRF2_PRODUCTION_20240401T120000Z.zip?_gl=1*dnmbf2*_ga*MzI5Mjk5NTgyLjE3MDk5MTQ0MjY.*_ga_7147EPK006*MTcxMjU5NDAzOC4xMy4xLjE3MTI1OTQwNjEuMC4wLjA.*_ga_P1FPTH9PL4*MTcxMjU5NDAzOC4xMy4xLjE3MTI1OTQwNjEuMC4wLjA.\n",
        "#!wget https://download.nlm.nih.gov/umls/kss/SNOMEDCT_CORE_SUBSET/SNOMEDCT_CORE_SUBSET_202311.zip?_gl=1*sukimt*_ga*MzI5Mjk5NTgyLjE3MDk5MTQ0MjY.*_ga_7147EPK006*MTcxMjU5NDAzOC4xMy4xLjE3MTI1OTQ3MjkuMC4wLjA.*_ga_P1FPTH9PL4*MTcxMjU5NDAzOC4xMy4xLjE3MTI1OTQ3MjkuMC4wLjA.\n",
        "!unzip  /content/SnomedCT_InternationalRF2_PRODUCTION_20240401T120000Z.zip\n",
        "!unzip /content/SNOMEDCT_CORE_SUBSET_202311.zip\n",
        "#SNOMEDCT_DIR = \"/home/jiba/telechargements/base_med/SnomedCT_Release_INT_20130731\"\n",
        "#SNOMEDCT_CORE_FILE = \"/home/jiba/telechargements/base_med/SNOMEDCT_CORE_SUBSET_201308.txt\""
      ],
      "metadata": {
        "id": "V-TZmzhxbplQ"
      },
      "execution_count": null,
      "outputs": []
    },
    {
      "cell_type": "code",
      "source": [
        "SNOMEDCT_DIR = \"/content/SnomedCT_InternationalRF2_PRODUCTION_20240401T120000Z\"\n",
        "SNOMEDCT_CORE_FILE = \"/content/SNOMEDCT_CORE_SUBSET_202311.txt\""
      ],
      "metadata": {
        "id": "8QPh30zqjeiP"
      },
      "execution_count": 1,
      "outputs": []
    },
    {
      "cell_type": "code",
      "source": [
        "!git clone https://github.com/MedevaKnowledgeSystems/pymedtermino.git"
      ],
      "metadata": {
        "colab": {
          "base_uri": "https://localhost:8080/"
        },
        "id": "cHR28_kvtfTb",
        "outputId": "9c355f52-0b06-412f-f1c0-d4ed8c7d0d26"
      },
      "execution_count": 13,
      "outputs": [
        {
          "output_type": "stream",
          "name": "stdout",
          "text": [
            "Cloning into 'pymedtermino'...\n",
            "remote: Enumerating objects: 92, done.\u001b[K\n",
            "remote: Total 92 (delta 0), reused 0 (delta 0), pack-reused 92\u001b[K\n",
            "Receiving objects: 100% (92/92), 21.24 MiB | 26.36 MiB/s, done.\n",
            "Resolving deltas: 100% (29/29), done.\n"
          ]
        }
      ]
    },
    {
      "cell_type": "code",
      "source": [
        "\n",
        "!cd pymedtermino && python /content/pymedtermino/setup.py build"
      ],
      "metadata": {
        "colab": {
          "base_uri": "https://localhost:8080/"
        },
        "id": "LmJZnrakusQX",
        "outputId": "a42118f1-e852-4ff8-d41a-f2f47b8c9b9f"
      },
      "execution_count": 6,
      "outputs": [
        {
          "output_type": "stream",
          "name": "stdout",
          "text": [
            "/usr/local/lib/python3.10/dist-packages/setuptools/dist.py:755: SetuptoolsDeprecationWarning: Invalid dash-separated options\n",
            "!!\n",
            "\n",
            "        ********************************************************************************\n",
            "        Usage of dash-separated 'force-manifest' will not be supported in future\n",
            "        versions. Please use the underscore name 'force_manifest' instead.\n",
            "\n",
            "        This deprecation is overdue, please update your project and remove deprecated\n",
            "        calls to avoid build errors in the future.\n",
            "\n",
            "        See https://setuptools.pypa.io/en/latest/userguide/declarative_config.html for details.\n",
            "        ********************************************************************************\n",
            "\n",
            "!!\n",
            "  opt = self.warn_dash_deprecation(opt, section)\n",
            "/usr/local/lib/python3.10/dist-packages/setuptools/dist.py:755: SetuptoolsDeprecationWarning: Invalid dash-separated options\n",
            "!!\n",
            "\n",
            "        ********************************************************************************\n",
            "        Usage of dash-separated 'dist-dir' will not be supported in future\n",
            "        versions. Please use the underscore name 'dist_dir' instead.\n",
            "\n",
            "        This deprecation is overdue, please update your project and remove deprecated\n",
            "        calls to avoid build errors in the future.\n",
            "\n",
            "        See https://setuptools.pypa.io/en/latest/userguide/declarative_config.html for details.\n",
            "        ********************************************************************************\n",
            "\n",
            "!!\n",
            "  opt = self.warn_dash_deprecation(opt, section)\n"
          ]
        }
      ]
    },
    {
      "cell_type": "code",
      "source": [
        "import pymedtermino"
      ],
      "metadata": {
        "id": "tjboi3HXvK7A"
      },
      "execution_count": 7,
      "outputs": []
    },
    {
      "cell_type": "code",
      "source": [
        "from pymedtermino import *\n",
        "from pymedtermino.snomedct import *"
      ],
      "metadata": {
        "id": "7tlIEK9_5AJB"
      },
      "execution_count": 8,
      "outputs": []
    },
    {
      "cell_type": "markdown",
      "source": [
        "# Section 2: Converting extracted ailment/problem phrases into SNOMEDCT"
      ],
      "metadata": {
        "id": "spGnOoUzQuzq"
      }
    },
    {
      "cell_type": "code",
      "source": [
        "# searching for SNOMED_CT equivalents for the PROBLEM(S) identified earlier\n",
        "SNOMEDCT.search(\"a sore throat\")"
      ],
      "metadata": {
        "colab": {
          "base_uri": "https://localhost:8080/"
        },
        "id": "5wROClpP7stc",
        "outputId": "6c367ce3-7d4e-46c1-fba7-446a55469503"
      },
      "execution_count": 12,
      "outputs": [
        {
          "output_type": "execute_result",
          "data": {
            "text/plain": [
              "[SNOMEDCT[139658009]  # Has a sore throat,\n",
              " SNOMEDCT[162388002]  # Has a sore throat (finding)]"
            ]
          },
          "metadata": {},
          "execution_count": 12
        }
      ]
    },
    {
      "cell_type": "markdown",
      "source": [
        "After this both the SNOMEDCT alternatives (139658009 & 162388002) can be fed into a system to convert SNOMEDCT to ICD10.\n",
        "There are two such systems:\n",
        "* https://github.com/Vicomtech/ClinIDMap\n",
        "* https://imagic.nlm.nih.gov/imagic/code/map\n",
        "\n",
        "\n",
        "Both these approaches can be automated."
      ],
      "metadata": {
        "id": "ROJ0eRajJzN2"
      }
    },
    {
      "cell_type": "code",
      "source": [],
      "metadata": {
        "id": "h-yO-zkSJujj"
      },
      "execution_count": null,
      "outputs": []
    }
  ]
}